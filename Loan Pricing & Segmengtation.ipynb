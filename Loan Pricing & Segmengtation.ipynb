{
 "cells": [
  {
   "attachments": {},
   "cell_type": "markdown",
   "metadata": {},
   "source": [
    "    ~“As far as the laws of mathematics refer to reality, they are not certain; and as far as they are certain, they do not refer to reality.”~ Einstein\n",
    "\n",
    "# Loan Pricing & Segmentation"
   ]
  },
  {
   "cell_type": "code",
   "execution_count": 4,
   "metadata": {},
   "outputs": [
    {
     "name": "stderr",
     "output_type": "stream",
     "text": [
      "C:\\Users\\Firo Obeid\\Anaconda3\\envs\\pyfinance\\lib\\site-packages\\sklearn\\externals\\joblib\\__init__.py:15: DeprecationWarning: sklearn.externals.joblib is deprecated in 0.21 and will be removed in 0.23. Please import this functionality directly from joblib, which can be installed with: pip install joblib. If this warning is raised when loading pickled models, you may need to re-serialize those models with scikit-learn 0.21+.\n",
      "  warnings.warn(msg, category=DeprecationWarning)\n"
     ]
    }
   ],
   "source": [
    "import pandas as pd\n",
    "import numpy as np\n",
    "import seaborn as sns\n",
    "import matplotlib.pyplot as plt\n",
    "%matplotlib inline\n",
    "from sklearn import ensemble\n",
    "from sklearn.model_selection import learning_curve, GridSearchCV\n",
    "from sklearn.externals import joblib\n",
    "from sklearn.metrics import roc_auc_score, accuracy_score, classification_report\n",
    "from sklearn.model_selection import train_test_split\n",
    "from sklearn.preprocessing import MinMaxScaler\n",
    "sns.set_style('darkgrid')\n",
    "\n",
    "# Ignore harmless warnings\n",
    "import warnings\n",
    "warnings.filterwarnings(\"ignore\")\n",
    "\n",
    "pd.set_option('display.max_rows', 1000)\n",
    "pd.set_option('display.max_columns', 1000)\n",
    "pd.set_option('display.width', 1000)"
   ]
  },
  {
   "cell_type": "code",
   "execution_count": 45,
   "metadata": {},
   "outputs": [],
   "source": [
    "#Function to get my model train and test data after shutting down notebook later on\n",
    "def fit_data():\n",
    "    model_data = pd.read_csv('modeldata.csv')\n",
    "    feature_importance = pd.read_csv('Feature_importance.csv')\n",
    "    features = list(feature_importance['Variable'][feature_importance.Importance >0].values)\n",
    "    target = 'loan_status'\n",
    "    X = model_data.drop(target, axis = 1)\n",
    "    Y = model_data[target]\n",
    "    X_train,X_test,y_train,y_test=train_test_split(X,Y,test_size=0.3,random_state= 0)\n",
    "    # Feature Scaling\n",
    "    X_new = model_data[features]\n",
    "    Y_new = model_data[target]\n",
    "    X_train_select,X_test_select,y_train_select,y_test_select=train_test_split(X_new,Y_new,test_size=0.3,random_state= 0)\n",
    "    scaler = MinMaxScaler()\n",
    "    scaler.fit(X_train_select)\n",
    "    scaled_train = scaler.transform(X_train_select) #ONLY FIT to train data!!\n",
    "    scaled_test = scaler.transform(X_test_select)\n",
    "    return X,Y,X_new,Y_new,X_train,X_test,y_train,y_test,scaled_train, scaled_test, y_train_select,y_test_select,features"
   ]
  },
  {
   "cell_type": "code",
   "execution_count": 5,
   "metadata": {},
   "outputs": [],
   "source": [
    "X,Y,X_new,Y_new,X_train,X_test,y_train,y_test,scaled_train, scaled_test, y_train_select,y_test_select,features = fit_data()"
   ]
  },
  {
   "cell_type": "markdown",
   "metadata": {},
   "source": [
    "# Load Models for Deployment\n",
    "* GradientBoostingModel\n",
    "* Neural Network Model\n",
    "* Tuned Logestic Regression Model "
   ]
  },
  {
   "cell_type": "code",
   "execution_count": 6,
   "metadata": {},
   "outputs": [],
   "source": [
    "GBM_model = joblib.load('GBM.pkl')"
   ]
  },
  {
   "cell_type": "code",
   "execution_count": 7,
   "metadata": {},
   "outputs": [
    {
     "data": {
      "text/plain": [
       "GradientBoostingClassifier(criterion='friedman_mse', init=None,\n",
       "                           learning_rate=0.5, loss='deviance', max_depth=3,\n",
       "                           max_features='auto', max_leaf_nodes=20,\n",
       "                           min_impurity_decrease=0.0, min_impurity_split=None,\n",
       "                           min_samples_leaf=1, min_samples_split=0.0001,\n",
       "                           min_weight_fraction_leaf=0.0, n_estimators=200,\n",
       "                           n_iter_no_change=None, presort='auto',\n",
       "                           random_state=1, subsample=0.8, tol=0.0001,\n",
       "                           validation_fraction=0.1, verbose=0,\n",
       "                           warm_start=False)"
      ]
     },
     "execution_count": 7,
     "metadata": {},
     "output_type": "execute_result"
    }
   ],
   "source": [
    "GBM_model"
   ]
  },
  {
   "cell_type": "code",
   "execution_count": 8,
   "metadata": {},
   "outputs": [
    {
     "name": "stderr",
     "output_type": "stream",
     "text": [
      "Using TensorFlow backend.\n"
     ]
    },
    {
     "name": "stdout",
     "output_type": "stream",
     "text": [
      "Model: \"sequential_183\"\n",
      "_________________________________________________________________\n",
      "Layer (type)                 Output Shape              Param #   \n",
      "=================================================================\n",
      "dense_547 (Dense)            (None, 5)                 420       \n",
      "_________________________________________________________________\n",
      "dense_548 (Dense)            (None, 5)                 30        \n",
      "_________________________________________________________________\n",
      "dense_549 (Dense)            (None, 1)                 6         \n",
      "=================================================================\n",
      "Total params: 456\n",
      "Trainable params: 456\n",
      "Non-trainable params: 0\n",
      "_________________________________________________________________\n"
     ]
    }
   ],
   "source": [
    "from keras.models import load_model\n",
    "classifier_model = load_model('Loan_default_classifier_model.h5')\n",
    "classifier_model.summary()"
   ]
  },
  {
   "cell_type": "code",
   "execution_count": 9,
   "metadata": {},
   "outputs": [],
   "source": [
    "logmodel_scaled = joblib.load('LR_scaled.pkl')"
   ]
  },
  {
   "cell_type": "code",
   "execution_count": 10,
   "metadata": {},
   "outputs": [
    {
     "data": {
      "text/plain": [
       "LogisticRegression(C=1.0, class_weight=None, dual=False, fit_intercept=True,\n",
       "                   intercept_scaling=1, l1_ratio=None, max_iter=10,\n",
       "                   multi_class='warn', n_jobs=None, penalty='l2',\n",
       "                   random_state=None, solver='sag', tol=0.0001, verbose=0,\n",
       "                   warm_start=False)"
      ]
     },
     "execution_count": 10,
     "metadata": {},
     "output_type": "execute_result"
    }
   ],
   "source": [
    "logmodel_scaled"
   ]
  },
  {
   "cell_type": "code",
   "execution_count": 11,
   "metadata": {},
   "outputs": [
    {
     "data": {
      "text/plain": [
       "MinMaxScaler(copy=True, feature_range=(0, 1))"
      ]
     },
     "execution_count": 11,
     "metadata": {},
     "output_type": "execute_result"
    }
   ],
   "source": [
    "scaler_model = joblib.load('scaler.pkl')\n",
    "scaler_model"
   ]
  },
  {
   "cell_type": "code",
   "execution_count": 12,
   "metadata": {},
   "outputs": [
    {
     "data": {
      "text/plain": [
       "array([[3.47774005e-05, 9.99965223e-01],\n",
       "       [1.82291252e-01, 8.17708748e-01],\n",
       "       [1.32182144e-01, 8.67817856e-01],\n",
       "       ...,\n",
       "       [2.67407138e-01, 7.32592862e-01],\n",
       "       [4.53048624e-01, 5.46951376e-01],\n",
       "       [1.05544266e-01, 8.94455734e-01]])"
      ]
     },
     "execution_count": 12,
     "metadata": {},
     "output_type": "execute_result"
    }
   ],
   "source": [
    "logmodel_scaled.predict_proba(scaled_test)"
   ]
  },
  {
   "cell_type": "code",
   "execution_count": 13,
   "metadata": {},
   "outputs": [
    {
     "data": {
      "text/plain": [
       "array([[0.9964893 ],\n",
       "       [0.87370086],\n",
       "       [0.8399008 ],\n",
       "       ...,\n",
       "       [0.9553135 ],\n",
       "       [0.7395748 ],\n",
       "       [0.9763949 ]], dtype=float32)"
      ]
     },
     "execution_count": 13,
     "metadata": {},
     "output_type": "execute_result"
    }
   ],
   "source": [
    "classifier_model.predict_proba(scaled_test)"
   ]
  },
  {
   "cell_type": "code",
   "execution_count": 14,
   "metadata": {},
   "outputs": [
    {
     "data": {
      "text/plain": [
       "array([[6.25547479e-05, 9.99937445e-01],\n",
       "       [1.66440348e-02, 9.83355965e-01],\n",
       "       [1.03808676e-01, 8.96191324e-01],\n",
       "       ...,\n",
       "       [1.79089122e-02, 9.82091088e-01],\n",
       "       [1.93103213e-01, 8.06896787e-01],\n",
       "       [7.90649572e-04, 9.99209350e-01]])"
      ]
     },
     "execution_count": 14,
     "metadata": {},
     "output_type": "execute_result"
    }
   ],
   "source": [
    "GBM_model.predict_proba(X_test)"
   ]
  },
  {
   "cell_type": "markdown",
   "metadata": {},
   "source": [
    "## Segmentation & Pricing\n",
    "1. So far you have built three models: Logistic, Neural Network, and Gradient Boosting. Use each model to do segmentation; i.e. sort customers based on the probability of default estimated by each model, then classify them into 10 equal groups. Calculate bad rate for each group. Do your models Rank Order? Choose model with the best rank ordering for the next parts.\n",
    "\n",
    "2. Assume risk free rate is 2%. Also assume that bad rate calculated in part 1, gives 1-year probability of default for each customer. Calculate the proper interest rate for each segment such that expected 1-year payoff for each segment equals 1-year risk-free pay off.\n",
    "\n",
    "3. For the sake of simplicity assume that installments are paid annually; so for example a loan with 36 months term, will have 3 payments. Write a function that gets loan amount, number of payments, and interest rate as inputs, and calculates payments (look at this link for example:  https://financeformulas.net/Loan_Payment_Formula.html). Use this function to calculate annual payment for each loan where interest rate comes from part 2. For the loan amount use \"loan_amount\" field and for the term use \"term\" field.\n",
    "\n",
    "4. Write a function that gets loan amount, probability of default, loan term, loan installment, and discount rate as inputs, and calculates the expected NPV of loan. Use this function to calculate expected NPV for each loan. For Probability of Default, use outputs of your scoring model. For loan installment use results of part 3. For discount rate use risk free rate.\n",
    "\n",
    "Hint: Note that cash flows are stochastic. For example if probability of default for a customer is 10%, with 10% probability he/she will default at the end of the first year, hence zero payoff. With 90% bank will collect the first year installment, and will continue to second year. In the second year, again with 10% probability customer will default, and with 90% no default. Therefore probability that bank collects second year installment is 0.9*0.9 = 0.81. Continue until loan maturity.\n",
    "\n",
    "5. Calculate total expected NPV for each segment. Plot total Expected NPV versus Bad Rate. What is your expectation about the shape of the curve?"
   ]
  },
  {
   "cell_type": "markdown",
   "metadata": {},
   "source": [
    "### Segmentation "
   ]
  },
  {
   "cell_type": "code",
   "execution_count": 15,
   "metadata": {},
   "outputs": [],
   "source": [
    "def score_new(X,Y,model,clas):\n",
    "    score = pd.DataFrame(1-model.predict_proba(X)[:,clas], columns = ['SCORE'])\n",
    "    score['DECILE'] = pd.qcut(score['SCORE'].rank(method = 'first'),10,labels=range(10,0,-1))\n",
    "    score['DECILE'] = score['DECILE'].astype(float)\n",
    "    score['Y'] = Y\n",
    "    new_score = score.groupby('DECILE')['Y'].apply(lambda y : len([elem for elem in y if elem == 0 ])/len(y))\n",
    "    # 0:Default\n",
    "    return(new_score,score)"
   ]
  },
  {
   "cell_type": "code",
   "execution_count": 17,
   "metadata": {},
   "outputs": [
    {
     "data": {
      "text/plain": [
       "DECILE\n",
       "1.0     0.920257\n",
       "2.0     0.197886\n",
       "3.0     0.065928\n",
       "4.0     0.034512\n",
       "5.0     0.019893\n",
       "6.0     0.011683\n",
       "7.0     0.005782\n",
       "8.0     0.001115\n",
       "9.0     0.000425\n",
       "10.0    0.000310\n",
       "Name: Y, dtype: float64"
      ]
     },
     "execution_count": 17,
     "metadata": {},
     "output_type": "execute_result"
    }
   ],
   "source": [
    "GBM_scoring,_ = score_new(X,Y,GBM_model,1)\n",
    "GBM_scoring"
   ]
  },
  {
   "cell_type": "code",
   "execution_count": 18,
   "metadata": {},
   "outputs": [
    {
     "data": {
      "text/plain": [
       "DECILE\n",
       "1.0     0.595809\n",
       "2.0     0.234615\n",
       "3.0     0.163374\n",
       "4.0     0.116104\n",
       "5.0     0.076541\n",
       "6.0     0.045372\n",
       "7.0     0.021529\n",
       "8.0     0.003167\n",
       "9.0     0.000637\n",
       "10.0    0.000641\n",
       "Name: Y, dtype: float64"
      ]
     },
     "execution_count": 18,
     "metadata": {},
     "output_type": "execute_result"
    }
   ],
   "source": [
    "logmodel_scoring, scored_data = score_new(scaler_model.transform(X_new), Y_new, logmodel_scaled,1)\n",
    "logmodel_scoring"
   ]
  },
  {
   "cell_type": "code",
   "execution_count": 19,
   "metadata": {},
   "outputs": [
    {
     "data": {
      "text/plain": [
       "DECILE\n",
       "1.0     0.758122\n",
       "2.0     0.212674\n",
       "3.0     0.125195\n",
       "4.0     0.077690\n",
       "5.0     0.044691\n",
       "6.0     0.022799\n",
       "7.0     0.010386\n",
       "8.0     0.004384\n",
       "9.0     0.001336\n",
       "10.0    0.000513\n",
       "Name: Y, dtype: float64"
      ]
     },
     "execution_count": 19,
     "metadata": {},
     "output_type": "execute_result"
    }
   ],
   "source": [
    "NN_scoring,_ = score_new(scaler_model.transform(X_new), Y_new, classifier_model,0)\n",
    "NN_scoring"
   ]
  },
  {
   "cell_type": "code",
   "execution_count": 20,
   "metadata": {},
   "outputs": [
    {
     "data": {
      "text/html": [
       "<div>\n",
       "<style scoped>\n",
       "    .dataframe tbody tr th:only-of-type {\n",
       "        vertical-align: middle;\n",
       "    }\n",
       "\n",
       "    .dataframe tbody tr th {\n",
       "        vertical-align: top;\n",
       "    }\n",
       "\n",
       "    .dataframe thead th {\n",
       "        text-align: right;\n",
       "    }\n",
       "</style>\n",
       "<table border=\"1\" class=\"dataframe\">\n",
       "  <thead>\n",
       "    <tr style=\"text-align: right;\">\n",
       "      <th></th>\n",
       "      <th>GBM</th>\n",
       "      <th>NN</th>\n",
       "      <th>LR</th>\n",
       "    </tr>\n",
       "    <tr>\n",
       "      <th>DECILE</th>\n",
       "      <th></th>\n",
       "      <th></th>\n",
       "      <th></th>\n",
       "    </tr>\n",
       "  </thead>\n",
       "  <tbody>\n",
       "    <tr>\n",
       "      <th>1.0</th>\n",
       "      <td>0.920257</td>\n",
       "      <td>0.758122</td>\n",
       "      <td>0.595809</td>\n",
       "    </tr>\n",
       "    <tr>\n",
       "      <th>2.0</th>\n",
       "      <td>0.197886</td>\n",
       "      <td>0.212674</td>\n",
       "      <td>0.234615</td>\n",
       "    </tr>\n",
       "    <tr>\n",
       "      <th>3.0</th>\n",
       "      <td>0.065928</td>\n",
       "      <td>0.125195</td>\n",
       "      <td>0.163374</td>\n",
       "    </tr>\n",
       "    <tr>\n",
       "      <th>4.0</th>\n",
       "      <td>0.034512</td>\n",
       "      <td>0.077690</td>\n",
       "      <td>0.116104</td>\n",
       "    </tr>\n",
       "    <tr>\n",
       "      <th>5.0</th>\n",
       "      <td>0.019893</td>\n",
       "      <td>0.044691</td>\n",
       "      <td>0.076541</td>\n",
       "    </tr>\n",
       "    <tr>\n",
       "      <th>6.0</th>\n",
       "      <td>0.011683</td>\n",
       "      <td>0.022799</td>\n",
       "      <td>0.045372</td>\n",
       "    </tr>\n",
       "    <tr>\n",
       "      <th>7.0</th>\n",
       "      <td>0.005782</td>\n",
       "      <td>0.010386</td>\n",
       "      <td>0.021529</td>\n",
       "    </tr>\n",
       "    <tr>\n",
       "      <th>8.0</th>\n",
       "      <td>0.001115</td>\n",
       "      <td>0.004384</td>\n",
       "      <td>0.003167</td>\n",
       "    </tr>\n",
       "    <tr>\n",
       "      <th>9.0</th>\n",
       "      <td>0.000425</td>\n",
       "      <td>0.001336</td>\n",
       "      <td>0.000637</td>\n",
       "    </tr>\n",
       "    <tr>\n",
       "      <th>10.0</th>\n",
       "      <td>0.000310</td>\n",
       "      <td>0.000513</td>\n",
       "      <td>0.000641</td>\n",
       "    </tr>\n",
       "  </tbody>\n",
       "</table>\n",
       "</div>"
      ],
      "text/plain": [
       "             GBM        NN        LR\n",
       "DECILE                              \n",
       "1.0     0.920257  0.758122  0.595809\n",
       "2.0     0.197886  0.212674  0.234615\n",
       "3.0     0.065928  0.125195  0.163374\n",
       "4.0     0.034512  0.077690  0.116104\n",
       "5.0     0.019893  0.044691  0.076541\n",
       "6.0     0.011683  0.022799  0.045372\n",
       "7.0     0.005782  0.010386  0.021529\n",
       "8.0     0.001115  0.004384  0.003167\n",
       "9.0     0.000425  0.001336  0.000637\n",
       "10.0    0.000310  0.000513  0.000641"
      ]
     },
     "execution_count": 20,
     "metadata": {},
     "output_type": "execute_result"
    }
   ],
   "source": [
    "bad_rates = pd.concat([GBM_scoring,NN_scoring,logmodel_scoring],axis =1,keys = ['GBM', 'NN', 'LR'])\n",
    "bad_rates"
   ]
  },
  {
   "cell_type": "code",
   "execution_count": 21,
   "metadata": {},
   "outputs": [
    {
     "data": {
      "image/png": "[encoded data removed]",
      "text/plain": [
       "<matplotlib.figure.Figure at 0x20f9a08def0>"
      ]
     },
     "metadata": {
      "needs_background": "light"
     },
     "output_type": "display_data"
    }
   ],
   "source": [
    "bad_rates.plot(kind='bar',figsize = (20,12));"
   ]
  },
  {
   "cell_type": "markdown",
   "metadata": {},
   "source": [
    "### Pricing"
   ]
  },
  {
   "cell_type": "code",
   "execution_count": 22,
   "metadata": {},
   "outputs": [
    {
     "data": {
      "text/plain": [
       "DECILE\n",
       "1.0     1.523560\n",
       "2.0     0.332663\n",
       "3.0     0.219183\n",
       "4.0     0.153982\n",
       "5.0     0.104542\n",
       "6.0     0.068479\n",
       "7.0     0.042443\n",
       "8.0     0.023241\n",
       "9.0     0.020650\n",
       "10.0    0.020655\n",
       "Name: LR, dtype: float64"
      ]
     },
     "execution_count": 22,
     "metadata": {},
     "output_type": "execute_result"
    }
   ],
   "source": [
    "bucket_int = bad_rates.LR.apply(lambda x: ((1.02)/(1-x))-1)\n",
    "bucket_int"
   ]
  },
  {
   "cell_type": "code",
   "execution_count": 23,
   "metadata": {},
   "outputs": [
    {
     "data": {
      "image/png": "[encoded data removed]",
      "text/plain": [
       "<matplotlib.figure.Figure at 0x20f9a1b6b38>"
      ]
     },
     "metadata": {
      "needs_background": "light"
     },
     "output_type": "display_data"
    }
   ],
   "source": [
    "bucket_int.plot(kind='bar',figsize = (20,12), title = 'Mean Loan Amount per Bucket ', fontsize= 15);"
   ]
  },
  {
   "cell_type": "code",
   "execution_count": 24,
   "metadata": {},
   "outputs": [
    {
     "data": {
      "text/plain": [
       "{1.0: 1.5235603515261622,\n",
       " 2.0: 0.33266260561996464,\n",
       " 3.0: 0.21918289439594774,\n",
       " 4.0: 0.153982293798826,\n",
       " 5.0: 0.104542345276873,\n",
       " 6.0: 0.06847915035193486,\n",
       " 7.0: 0.04244307110855927,\n",
       " 8.0: 0.023240854145588186,\n",
       " 9.0: 0.02065014164305956,\n",
       " 10.0: 0.020654659413329446}"
      ]
     },
     "execution_count": 24,
     "metadata": {},
     "output_type": "execute_result"
    }
   ],
   "source": [
    "interest = dict(bucket_int)\n",
    "interest"
   ]
  },
  {
   "cell_type": "code",
   "execution_count": 25,
   "metadata": {},
   "outputs": [],
   "source": [
    "scored_data['Interest'] = scored_data['DECILE'].map(interest)\n",
    "scored_data['loan_amnt'] = X_new['loan_amnt']\n",
    "scored_data['term_payments'] = X_new['term_ 60 months'].apply(lambda x: 5 if x == 1 else 3)"
   ]
  },
  {
   "cell_type": "code",
   "execution_count": 28,
   "metadata": {},
   "outputs": [
    {
     "data": {
      "text/html": [
       "<div>\n",
       "<style scoped>\n",
       "    .dataframe tbody tr th:only-of-type {\n",
       "        vertical-align: middle;\n",
       "    }\n",
       "\n",
       "    .dataframe tbody tr th {\n",
       "        vertical-align: top;\n",
       "    }\n",
       "\n",
       "    .dataframe thead th {\n",
       "        text-align: right;\n",
       "    }\n",
       "</style>\n",
       "<table border=\"1\" class=\"dataframe\">\n",
       "  <thead>\n",
       "    <tr style=\"text-align: right;\">\n",
       "      <th></th>\n",
       "      <th>SCORE</th>\n",
       "      <th>DECILE</th>\n",
       "      <th>Y</th>\n",
       "      <th>Interest</th>\n",
       "      <th>loan_amnt</th>\n",
       "      <th>term_payments</th>\n",
       "    </tr>\n",
       "  </thead>\n",
       "  <tbody>\n",
       "    <tr>\n",
       "      <th>2260629</th>\n",
       "      <td>5.891504e-09</td>\n",
       "      <td>10.0</td>\n",
       "      <td>1</td>\n",
       "      <td>0.020655</td>\n",
       "      <td>15000</td>\n",
       "      <td>5</td>\n",
       "    </tr>\n",
       "    <tr>\n",
       "      <th>2260630</th>\n",
       "      <td>1.216230e-01</td>\n",
       "      <td>4.0</td>\n",
       "      <td>1</td>\n",
       "      <td>0.153982</td>\n",
       "      <td>3500</td>\n",
       "      <td>3</td>\n",
       "    </tr>\n",
       "    <tr>\n",
       "      <th>2260631</th>\n",
       "      <td>1.273754e-01</td>\n",
       "      <td>4.0</td>\n",
       "      <td>1</td>\n",
       "      <td>0.153982</td>\n",
       "      <td>10000</td>\n",
       "      <td>3</td>\n",
       "    </tr>\n",
       "    <tr>\n",
       "      <th>2260632</th>\n",
       "      <td>6.375994e-01</td>\n",
       "      <td>1.0</td>\n",
       "      <td>1</td>\n",
       "      <td>1.523560</td>\n",
       "      <td>21000</td>\n",
       "      <td>5</td>\n",
       "    </tr>\n",
       "    <tr>\n",
       "      <th>2260633</th>\n",
       "      <td>4.864918e-01</td>\n",
       "      <td>1.0</td>\n",
       "      <td>1</td>\n",
       "      <td>1.523560</td>\n",
       "      <td>30000</td>\n",
       "      <td>5</td>\n",
       "    </tr>\n",
       "    <tr>\n",
       "      <th>2260634</th>\n",
       "      <td>1.333358e-01</td>\n",
       "      <td>3.0</td>\n",
       "      <td>1</td>\n",
       "      <td>0.219183</td>\n",
       "      <td>12000</td>\n",
       "      <td>5</td>\n",
       "    </tr>\n",
       "    <tr>\n",
       "      <th>2260635</th>\n",
       "      <td>1.960166e-02</td>\n",
       "      <td>7.0</td>\n",
       "      <td>1</td>\n",
       "      <td>0.042443</td>\n",
       "      <td>12000</td>\n",
       "      <td>5</td>\n",
       "    </tr>\n",
       "    <tr>\n",
       "      <th>2260636</th>\n",
       "      <td>6.371678e-02</td>\n",
       "      <td>5.0</td>\n",
       "      <td>1</td>\n",
       "      <td>0.104542</td>\n",
       "      <td>10000</td>\n",
       "      <td>3</td>\n",
       "    </tr>\n",
       "    <tr>\n",
       "      <th>2260637</th>\n",
       "      <td>1.331986e-01</td>\n",
       "      <td>3.0</td>\n",
       "      <td>1</td>\n",
       "      <td>0.219183</td>\n",
       "      <td>12000</td>\n",
       "      <td>5</td>\n",
       "    </tr>\n",
       "    <tr>\n",
       "      <th>2260638</th>\n",
       "      <td>1.192915e-01</td>\n",
       "      <td>4.0</td>\n",
       "      <td>1</td>\n",
       "      <td>0.153982</td>\n",
       "      <td>16550</td>\n",
       "      <td>5</td>\n",
       "    </tr>\n",
       "  </tbody>\n",
       "</table>\n",
       "</div>"
      ],
      "text/plain": [
       "                SCORE  DECILE  Y  Interest  loan_amnt  term_payments\n",
       "2260629  5.891504e-09    10.0  1  0.020655      15000              5\n",
       "2260630  1.216230e-01     4.0  1  0.153982       3500              3\n",
       "2260631  1.273754e-01     4.0  1  0.153982      10000              3\n",
       "2260632  6.375994e-01     1.0  1  1.523560      21000              5\n",
       "2260633  4.864918e-01     1.0  1  1.523560      30000              5\n",
       "2260634  1.333358e-01     3.0  1  0.219183      12000              5\n",
       "2260635  1.960166e-02     7.0  1  0.042443      12000              5\n",
       "2260636  6.371678e-02     5.0  1  0.104542      10000              3\n",
       "2260637  1.331986e-01     3.0  1  0.219183      12000              5\n",
       "2260638  1.192915e-01     4.0  1  0.153982      16550              5"
      ]
     },
     "execution_count": 28,
     "metadata": {},
     "output_type": "execute_result"
    }
   ],
   "source": [
    "scored_data.tail(10)"
   ]
  },
  {
   "cell_type": "code",
   "execution_count": 29,
   "metadata": {},
   "outputs": [
    {
     "name": "stdout",
     "output_type": "stream",
     "text": [
      "DECILE\n",
      "1.0     16649.114078\n",
      "2.0     15226.767088\n",
      "3.0     14313.384926\n",
      "4.0     13406.860004\n",
      "5.0     13461.285903\n",
      "6.0     14285.587267\n",
      "7.0     14466.852086\n",
      "8.0     11484.206132\n",
      "9.0     13668.622934\n",
      "10.0    23508.054356\n",
      "Name: loan_amnt, dtype: float64\n"
     ]
    },
    {
     "data": {
      "image/png": "[encoded data removed]",
      "text/plain": [
       "<matplotlib.figure.Figure at 0x20f9a244f60>"
      ]
     },
     "metadata": {
      "needs_background": "light"
     },
     "output_type": "display_data"
    }
   ],
   "source": [
    "print(scored_data.groupby('DECILE')['loan_amnt'].mean())\n",
    "scored_data.groupby('DECILE')['loan_amnt'].mean().plot(kind='bar',figsize = (20,12), title = 'Mean Loan Amount per Bucket ', fontsize= 15);"
   ]
  },
  {
   "cell_type": "markdown",
   "metadata": {},
   "source": [
    "### Loan Payments Estimation"
   ]
  },
  {
   "cell_type": "code",
   "execution_count": 30,
   "metadata": {},
   "outputs": [],
   "source": [
    "def calc_loan_pyts(r,PV,n):\n",
    "    return r*PV/(1-(1+r)**-n)\n",
    "    "
   ]
  },
  {
   "cell_type": "code",
   "execution_count": 31,
   "metadata": {},
   "outputs": [],
   "source": [
    "scored_data['Payments'] = calc_loan_pyts(scored_data['Interest'], scored_data['loan_amnt'], scored_data['term_payments'])"
   ]
  },
  {
   "cell_type": "code",
   "execution_count": 32,
   "metadata": {},
   "outputs": [
    {
     "data": {
      "text/html": [
       "<div>\n",
       "<style scoped>\n",
       "    .dataframe tbody tr th:only-of-type {\n",
       "        vertical-align: middle;\n",
       "    }\n",
       "\n",
       "    .dataframe tbody tr th {\n",
       "        vertical-align: top;\n",
       "    }\n",
       "\n",
       "    .dataframe thead th {\n",
       "        text-align: right;\n",
       "    }\n",
       "</style>\n",
       "<table border=\"1\" class=\"dataframe\">\n",
       "  <thead>\n",
       "    <tr style=\"text-align: right;\">\n",
       "      <th></th>\n",
       "      <th>SCORE</th>\n",
       "      <th>DECILE</th>\n",
       "      <th>Y</th>\n",
       "      <th>Interest</th>\n",
       "      <th>loan_amnt</th>\n",
       "      <th>term_payments</th>\n",
       "      <th>Payments</th>\n",
       "    </tr>\n",
       "  </thead>\n",
       "  <tbody>\n",
       "    <tr>\n",
       "      <th>0</th>\n",
       "      <td>0.110860</td>\n",
       "      <td>4.0</td>\n",
       "      <td>1</td>\n",
       "      <td>0.153982</td>\n",
       "      <td>2500</td>\n",
       "      <td>3</td>\n",
       "      <td>1102.180548</td>\n",
       "    </tr>\n",
       "    <tr>\n",
       "      <th>1</th>\n",
       "      <td>0.646451</td>\n",
       "      <td>1.0</td>\n",
       "      <td>1</td>\n",
       "      <td>1.523560</td>\n",
       "      <td>30000</td>\n",
       "      <td>5</td>\n",
       "      <td>46157.810736</td>\n",
       "    </tr>\n",
       "    <tr>\n",
       "      <th>2</th>\n",
       "      <td>0.145964</td>\n",
       "      <td>3.0</td>\n",
       "      <td>1</td>\n",
       "      <td>0.219183</td>\n",
       "      <td>5000</td>\n",
       "      <td>3</td>\n",
       "      <td>2445.227331</td>\n",
       "    </tr>\n",
       "    <tr>\n",
       "      <th>3</th>\n",
       "      <td>0.138035</td>\n",
       "      <td>3.0</td>\n",
       "      <td>1</td>\n",
       "      <td>0.219183</td>\n",
       "      <td>4000</td>\n",
       "      <td>3</td>\n",
       "      <td>1956.181865</td>\n",
       "    </tr>\n",
       "    <tr>\n",
       "      <th>4</th>\n",
       "      <td>0.345474</td>\n",
       "      <td>2.0</td>\n",
       "      <td>1</td>\n",
       "      <td>0.332663</td>\n",
       "      <td>30000</td>\n",
       "      <td>5</td>\n",
       "      <td>13095.276798</td>\n",
       "    </tr>\n",
       "    <tr>\n",
       "      <th>5</th>\n",
       "      <td>0.120074</td>\n",
       "      <td>4.0</td>\n",
       "      <td>1</td>\n",
       "      <td>0.153982</td>\n",
       "      <td>5550</td>\n",
       "      <td>3</td>\n",
       "      <td>2446.840817</td>\n",
       "    </tr>\n",
       "    <tr>\n",
       "      <th>6</th>\n",
       "      <td>0.134720</td>\n",
       "      <td>3.0</td>\n",
       "      <td>1</td>\n",
       "      <td>0.219183</td>\n",
       "      <td>2000</td>\n",
       "      <td>3</td>\n",
       "      <td>978.090932</td>\n",
       "    </tr>\n",
       "    <tr>\n",
       "      <th>7</th>\n",
       "      <td>0.026879</td>\n",
       "      <td>7.0</td>\n",
       "      <td>1</td>\n",
       "      <td>0.042443</td>\n",
       "      <td>6000</td>\n",
       "      <td>3</td>\n",
       "      <td>2172.123919</td>\n",
       "    </tr>\n",
       "    <tr>\n",
       "      <th>8</th>\n",
       "      <td>0.199146</td>\n",
       "      <td>3.0</td>\n",
       "      <td>1</td>\n",
       "      <td>0.219183</td>\n",
       "      <td>5000</td>\n",
       "      <td>3</td>\n",
       "      <td>2445.227331</td>\n",
       "    </tr>\n",
       "    <tr>\n",
       "      <th>9</th>\n",
       "      <td>0.120705</td>\n",
       "      <td>4.0</td>\n",
       "      <td>1</td>\n",
       "      <td>0.153982</td>\n",
       "      <td>6000</td>\n",
       "      <td>3</td>\n",
       "      <td>2645.233316</td>\n",
       "    </tr>\n",
       "    <tr>\n",
       "      <th>10</th>\n",
       "      <td>0.071983</td>\n",
       "      <td>5.0</td>\n",
       "      <td>1</td>\n",
       "      <td>0.104542</td>\n",
       "      <td>5500</td>\n",
       "      <td>3</td>\n",
       "      <td>2229.339081</td>\n",
       "    </tr>\n",
       "    <tr>\n",
       "      <th>11</th>\n",
       "      <td>0.022304</td>\n",
       "      <td>7.0</td>\n",
       "      <td>1</td>\n",
       "      <td>0.042443</td>\n",
       "      <td>28000</td>\n",
       "      <td>5</td>\n",
       "      <td>6332.788235</td>\n",
       "    </tr>\n",
       "    <tr>\n",
       "      <th>12</th>\n",
       "      <td>0.043120</td>\n",
       "      <td>6.0</td>\n",
       "      <td>1</td>\n",
       "      <td>0.068479</td>\n",
       "      <td>11200</td>\n",
       "      <td>3</td>\n",
       "      <td>4255.925189</td>\n",
       "    </tr>\n",
       "    <tr>\n",
       "      <th>13</th>\n",
       "      <td>0.233606</td>\n",
       "      <td>2.0</td>\n",
       "      <td>1</td>\n",
       "      <td>0.332663</td>\n",
       "      <td>6500</td>\n",
       "      <td>3</td>\n",
       "      <td>3744.334239</td>\n",
       "    </tr>\n",
       "    <tr>\n",
       "      <th>14</th>\n",
       "      <td>0.183894</td>\n",
       "      <td>3.0</td>\n",
       "      <td>1</td>\n",
       "      <td>0.219183</td>\n",
       "      <td>22000</td>\n",
       "      <td>5</td>\n",
       "      <td>7669.110295</td>\n",
       "    </tr>\n",
       "    <tr>\n",
       "      <th>15</th>\n",
       "      <td>0.034560</td>\n",
       "      <td>6.0</td>\n",
       "      <td>1</td>\n",
       "      <td>0.068479</td>\n",
       "      <td>3500</td>\n",
       "      <td>3</td>\n",
       "      <td>1329.976622</td>\n",
       "    </tr>\n",
       "    <tr>\n",
       "      <th>16</th>\n",
       "      <td>0.036638</td>\n",
       "      <td>6.0</td>\n",
       "      <td>1</td>\n",
       "      <td>0.068479</td>\n",
       "      <td>7000</td>\n",
       "      <td>3</td>\n",
       "      <td>2659.953243</td>\n",
       "    </tr>\n",
       "    <tr>\n",
       "      <th>17</th>\n",
       "      <td>0.073757</td>\n",
       "      <td>5.0</td>\n",
       "      <td>1</td>\n",
       "      <td>0.104542</td>\n",
       "      <td>25000</td>\n",
       "      <td>5</td>\n",
       "      <td>6671.640044</td>\n",
       "    </tr>\n",
       "    <tr>\n",
       "      <th>18</th>\n",
       "      <td>0.291501</td>\n",
       "      <td>2.0</td>\n",
       "      <td>1</td>\n",
       "      <td>0.332663</td>\n",
       "      <td>16000</td>\n",
       "      <td>5</td>\n",
       "      <td>6984.147626</td>\n",
       "    </tr>\n",
       "    <tr>\n",
       "      <th>19</th>\n",
       "      <td>0.208746</td>\n",
       "      <td>2.0</td>\n",
       "      <td>1</td>\n",
       "      <td>0.332663</td>\n",
       "      <td>13000</td>\n",
       "      <td>5</td>\n",
       "      <td>5674.619946</td>\n",
       "    </tr>\n",
       "  </tbody>\n",
       "</table>\n",
       "</div>"
      ],
      "text/plain": [
       "       SCORE  DECILE  Y  Interest  loan_amnt  term_payments      Payments\n",
       "0   0.110860     4.0  1  0.153982       2500              3   1102.180548\n",
       "1   0.646451     1.0  1  1.523560      30000              5  46157.810736\n",
       "2   0.145964     3.0  1  0.219183       5000              3   2445.227331\n",
       "3   0.138035     3.0  1  0.219183       4000              3   1956.181865\n",
       "4   0.345474     2.0  1  0.332663      30000              5  13095.276798\n",
       "5   0.120074     4.0  1  0.153982       5550              3   2446.840817\n",
       "6   0.134720     3.0  1  0.219183       2000              3    978.090932\n",
       "7   0.026879     7.0  1  0.042443       6000              3   2172.123919\n",
       "8   0.199146     3.0  1  0.219183       5000              3   2445.227331\n",
       "9   0.120705     4.0  1  0.153982       6000              3   2645.233316\n",
       "10  0.071983     5.0  1  0.104542       5500              3   2229.339081\n",
       "11  0.022304     7.0  1  0.042443      28000              5   6332.788235\n",
       "12  0.043120     6.0  1  0.068479      11200              3   4255.925189\n",
       "13  0.233606     2.0  1  0.332663       6500              3   3744.334239\n",
       "14  0.183894     3.0  1  0.219183      22000              5   7669.110295\n",
       "15  0.034560     6.0  1  0.068479       3500              3   1329.976622\n",
       "16  0.036638     6.0  1  0.068479       7000              3   2659.953243\n",
       "17  0.073757     5.0  1  0.104542      25000              5   6671.640044\n",
       "18  0.291501     2.0  1  0.332663      16000              5   6984.147626\n",
       "19  0.208746     2.0  1  0.332663      13000              5   5674.619946"
      ]
     },
     "execution_count": 32,
     "metadata": {},
     "output_type": "execute_result"
    }
   ],
   "source": [
    "scored_data.head(20)"
   ]
  },
  {
   "cell_type": "markdown",
   "metadata": {},
   "source": [
    "### Bucket Net Present Value "
   ]
  },
  {
   "cell_type": "code",
   "execution_count": 33,
   "metadata": {},
   "outputs": [],
   "source": [
    "def calculate_npv(x):\n",
    "   rf_rate = 0.02\n",
    "   disc_factor=(1-x[\"SCORE\"])/(1+rf_rate)\n",
    "   cashflows=[-x[\"loan_amnt\"]]\n",
    "   for i in range(1,int(x[\"term_payments\"])+1):\n",
    "       cashflows.append(x[\"Payments\"]*(disc_factor**i))\n",
    "       \n",
    "   return np.sum(cashflows)\n"
   ]
  },
  {
   "cell_type": "code",
   "execution_count": 34,
   "metadata": {},
   "outputs": [],
   "source": [
    "scored_data['NPV']=scored_data.apply(calculate_npv, axis=1)"
   ]
  },
  {
   "cell_type": "code",
   "execution_count": 39,
   "metadata": {},
   "outputs": [
    {
     "data": {
      "text/html": [
       "<div>\n",
       "<style scoped>\n",
       "    .dataframe tbody tr th:only-of-type {\n",
       "        vertical-align: middle;\n",
       "    }\n",
       "\n",
       "    .dataframe tbody tr th {\n",
       "        vertical-align: top;\n",
       "    }\n",
       "\n",
       "    .dataframe thead th {\n",
       "        text-align: right;\n",
       "    }\n",
       "</style>\n",
       "<table border=\"1\" class=\"dataframe\">\n",
       "  <thead>\n",
       "    <tr style=\"text-align: right;\">\n",
       "      <th></th>\n",
       "      <th>SCORE</th>\n",
       "      <th>DECILE</th>\n",
       "      <th>Y</th>\n",
       "      <th>Interest</th>\n",
       "      <th>loan_amnt</th>\n",
       "      <th>term_payments</th>\n",
       "      <th>Payments</th>\n",
       "      <th>NPV</th>\n",
       "    </tr>\n",
       "  </thead>\n",
       "  <tbody>\n",
       "    <tr>\n",
       "      <th>0</th>\n",
       "      <td>0.110860</td>\n",
       "      <td>4.0</td>\n",
       "      <td>1</td>\n",
       "      <td>0.153982</td>\n",
       "      <td>2500</td>\n",
       "      <td>3</td>\n",
       "      <td>1102.180548</td>\n",
       "      <td>28.358216</td>\n",
       "    </tr>\n",
       "    <tr>\n",
       "      <th>1</th>\n",
       "      <td>0.646451</td>\n",
       "      <td>1.0</td>\n",
       "      <td>1</td>\n",
       "      <td>1.523560</td>\n",
       "      <td>30000</td>\n",
       "      <td>5</td>\n",
       "      <td>46157.810736</td>\n",
       "      <td>-5636.029109</td>\n",
       "    </tr>\n",
       "    <tr>\n",
       "      <th>2</th>\n",
       "      <td>0.145964</td>\n",
       "      <td>3.0</td>\n",
       "      <td>1</td>\n",
       "      <td>0.219183</td>\n",
       "      <td>5000</td>\n",
       "      <td>3</td>\n",
       "      <td>2445.227331</td>\n",
       "      <td>196.916737</td>\n",
       "    </tr>\n",
       "    <tr>\n",
       "      <th>3</th>\n",
       "      <td>0.138035</td>\n",
       "      <td>3.0</td>\n",
       "      <td>1</td>\n",
       "      <td>0.219183</td>\n",
       "      <td>4000</td>\n",
       "      <td>3</td>\n",
       "      <td>1956.181865</td>\n",
       "      <td>230.604199</td>\n",
       "    </tr>\n",
       "    <tr>\n",
       "      <th>4</th>\n",
       "      <td>0.345474</td>\n",
       "      <td>2.0</td>\n",
       "      <td>1</td>\n",
       "      <td>0.332663</td>\n",
       "      <td>30000</td>\n",
       "      <td>5</td>\n",
       "      <td>13095.276798</td>\n",
       "      <td>-9099.354265</td>\n",
       "    </tr>\n",
       "    <tr>\n",
       "      <th>5</th>\n",
       "      <td>0.120074</td>\n",
       "      <td>4.0</td>\n",
       "      <td>1</td>\n",
       "      <td>0.153982</td>\n",
       "      <td>5550</td>\n",
       "      <td>3</td>\n",
       "      <td>2446.840817</td>\n",
       "      <td>-47.351891</td>\n",
       "    </tr>\n",
       "    <tr>\n",
       "      <th>6</th>\n",
       "      <td>0.134720</td>\n",
       "      <td>3.0</td>\n",
       "      <td>1</td>\n",
       "      <td>0.219183</td>\n",
       "      <td>2000</td>\n",
       "      <td>3</td>\n",
       "      <td>978.090932</td>\n",
       "      <td>130.699742</td>\n",
       "    </tr>\n",
       "    <tr>\n",
       "      <th>7</th>\n",
       "      <td>0.026879</td>\n",
       "      <td>7.0</td>\n",
       "      <td>1</td>\n",
       "      <td>0.042443</td>\n",
       "      <td>6000</td>\n",
       "      <td>3</td>\n",
       "      <td>2172.123919</td>\n",
       "      <td>-64.471374</td>\n",
       "    </tr>\n",
       "    <tr>\n",
       "      <th>8</th>\n",
       "      <td>0.199146</td>\n",
       "      <td>3.0</td>\n",
       "      <td>1</td>\n",
       "      <td>0.219183</td>\n",
       "      <td>5000</td>\n",
       "      <td>3</td>\n",
       "      <td>2445.227331</td>\n",
       "      <td>-389.204221</td>\n",
       "    </tr>\n",
       "    <tr>\n",
       "      <th>9</th>\n",
       "      <td>0.120705</td>\n",
       "      <td>4.0</td>\n",
       "      <td>1</td>\n",
       "      <td>0.153982</td>\n",
       "      <td>6000</td>\n",
       "      <td>3</td>\n",
       "      <td>2645.233316</td>\n",
       "      <td>-59.296281</td>\n",
       "    </tr>\n",
       "    <tr>\n",
       "      <th>10</th>\n",
       "      <td>0.071983</td>\n",
       "      <td>5.0</td>\n",
       "      <td>1</td>\n",
       "      <td>0.104542</td>\n",
       "      <td>5500</td>\n",
       "      <td>3</td>\n",
       "      <td>2229.339081</td>\n",
       "      <td>52.661570</td>\n",
       "    </tr>\n",
       "    <tr>\n",
       "      <th>11</th>\n",
       "      <td>0.022304</td>\n",
       "      <td>7.0</td>\n",
       "      <td>1</td>\n",
       "      <td>0.042443</td>\n",
       "      <td>28000</td>\n",
       "      <td>5</td>\n",
       "      <td>6332.788235</td>\n",
       "      <td>-64.632884</td>\n",
       "    </tr>\n",
       "    <tr>\n",
       "      <th>12</th>\n",
       "      <td>0.043120</td>\n",
       "      <td>6.0</td>\n",
       "      <td>1</td>\n",
       "      <td>0.068479</td>\n",
       "      <td>11200</td>\n",
       "      <td>3</td>\n",
       "      <td>4255.925189</td>\n",
       "      <td>51.749857</td>\n",
       "    </tr>\n",
       "    <tr>\n",
       "      <th>13</th>\n",
       "      <td>0.233606</td>\n",
       "      <td>2.0</td>\n",
       "      <td>1</td>\n",
       "      <td>0.332663</td>\n",
       "      <td>6500</td>\n",
       "      <td>3</td>\n",
       "      <td>3744.334239</td>\n",
       "      <td>15.532619</td>\n",
       "    </tr>\n",
       "    <tr>\n",
       "      <th>14</th>\n",
       "      <td>0.183894</td>\n",
       "      <td>3.0</td>\n",
       "      <td>1</td>\n",
       "      <td>0.219183</td>\n",
       "      <td>22000</td>\n",
       "      <td>5</td>\n",
       "      <td>7669.110295</td>\n",
       "      <td>-1368.755561</td>\n",
       "    </tr>\n",
       "    <tr>\n",
       "      <th>15</th>\n",
       "      <td>0.034560</td>\n",
       "      <td>6.0</td>\n",
       "      <td>1</td>\n",
       "      <td>0.068479</td>\n",
       "      <td>3500</td>\n",
       "      <td>3</td>\n",
       "      <td>1329.976622</td>\n",
       "      <td>78.102864</td>\n",
       "    </tr>\n",
       "    <tr>\n",
       "      <th>16</th>\n",
       "      <td>0.036638</td>\n",
       "      <td>6.0</td>\n",
       "      <td>1</td>\n",
       "      <td>0.068479</td>\n",
       "      <td>7000</td>\n",
       "      <td>3</td>\n",
       "      <td>2659.953243</td>\n",
       "      <td>126.004699</td>\n",
       "    </tr>\n",
       "    <tr>\n",
       "      <th>17</th>\n",
       "      <td>0.073757</td>\n",
       "      <td>5.0</td>\n",
       "      <td>1</td>\n",
       "      <td>0.104542</td>\n",
       "      <td>25000</td>\n",
       "      <td>5</td>\n",
       "      <td>6671.640044</td>\n",
       "      <td>211.922311</td>\n",
       "    </tr>\n",
       "    <tr>\n",
       "      <th>18</th>\n",
       "      <td>0.291501</td>\n",
       "      <td>2.0</td>\n",
       "      <td>1</td>\n",
       "      <td>0.332663</td>\n",
       "      <td>16000</td>\n",
       "      <td>5</td>\n",
       "      <td>6984.147626</td>\n",
       "      <td>-2683.320798</td>\n",
       "    </tr>\n",
       "    <tr>\n",
       "      <th>19</th>\n",
       "      <td>0.208746</td>\n",
       "      <td>2.0</td>\n",
       "      <td>1</td>\n",
       "      <td>0.332663</td>\n",
       "      <td>13000</td>\n",
       "      <td>5</td>\n",
       "      <td>5674.619946</td>\n",
       "      <td>1114.888922</td>\n",
       "    </tr>\n",
       "  </tbody>\n",
       "</table>\n",
       "</div>"
      ],
      "text/plain": [
       "       SCORE  DECILE  Y  Interest  loan_amnt  term_payments      Payments          NPV\n",
       "0   0.110860     4.0  1  0.153982       2500              3   1102.180548    28.358216\n",
       "1   0.646451     1.0  1  1.523560      30000              5  46157.810736 -5636.029109\n",
       "2   0.145964     3.0  1  0.219183       5000              3   2445.227331   196.916737\n",
       "3   0.138035     3.0  1  0.219183       4000              3   1956.181865   230.604199\n",
       "4   0.345474     2.0  1  0.332663      30000              5  13095.276798 -9099.354265\n",
       "5   0.120074     4.0  1  0.153982       5550              3   2446.840817   -47.351891\n",
       "6   0.134720     3.0  1  0.219183       2000              3    978.090932   130.699742\n",
       "7   0.026879     7.0  1  0.042443       6000              3   2172.123919   -64.471374\n",
       "8   0.199146     3.0  1  0.219183       5000              3   2445.227331  -389.204221\n",
       "9   0.120705     4.0  1  0.153982       6000              3   2645.233316   -59.296281\n",
       "10  0.071983     5.0  1  0.104542       5500              3   2229.339081    52.661570\n",
       "11  0.022304     7.0  1  0.042443      28000              5   6332.788235   -64.632884\n",
       "12  0.043120     6.0  1  0.068479      11200              3   4255.925189    51.749857\n",
       "13  0.233606     2.0  1  0.332663       6500              3   3744.334239    15.532619\n",
       "14  0.183894     3.0  1  0.219183      22000              5   7669.110295 -1368.755561\n",
       "15  0.034560     6.0  1  0.068479       3500              3   1329.976622    78.102864\n",
       "16  0.036638     6.0  1  0.068479       7000              3   2659.953243   126.004699\n",
       "17  0.073757     5.0  1  0.104542      25000              5   6671.640044   211.922311\n",
       "18  0.291501     2.0  1  0.332663      16000              5   6984.147626 -2683.320798\n",
       "19  0.208746     2.0  1  0.332663      13000              5   5674.619946  1114.888922"
      ]
     },
     "execution_count": 39,
     "metadata": {},
     "output_type": "execute_result"
    }
   ],
   "source": [
    "scored_data.head(20)"
   ]
  },
  {
   "cell_type": "code",
   "execution_count": 36,
   "metadata": {},
   "outputs": [],
   "source": [
    "#Amother NPV calculator\n",
    "def loan_NPV(r,proba_D,payments,loan_amnt, n): # A full mother function the calculate NPV, IRR and display pandas. All of that is done by passing the cashflows, period and rate of return(when needed)\n",
    "    discount_factor = [] #The discounting factors will be stored in a list\n",
    "    for h in range(0, n + 1): # loop to get discount factors and append to a list\n",
    "        rate = (1 / ((1 + r) ** h))*((1-proba_D)**h)\n",
    "        discount_factor.append(rate)\n",
    "    npv_data = pd.DataFrame({'Cash_Flows': [i for i in range(0,n + 1)]}, index = [i for i in range(0, n + 1)]) #the iterations will take whatever cash flows assigned when my function is called in separate problems\n",
    "    npv_data.index.name = 'Year' #The index is set to be named \"Years'. The number of years is passed through function call\n",
    "    npv_data.loc[0]['Cash_Flows'] = -loan_amnt #index zero in colmun with intial cost. The zero index was empty and reserved for the intial cost as stated\n",
    "    npv_data.Cash_Flows.loc[[i for i in range(1, n + 1)]] = payments #tried several formats until this worked to change all cash flows through passing a list to the function and updating the iterable cash flow series. Note that range starts at 1 not 0 to keep 0 for intial cost reserved\n",
    "    npv_data['Discounting factors'] = pd.Series(discount_factor) #panda columns are eventually series so I added a new series of the discounted cash flows through an outter function coded earlier\n",
    "    npv_data['Discounted_Cash_Flows'] = npv_data.apply(np.prod, axis = 1) #apply method used to multiply cash flows column with discounting factors column to give new discounted cash flows column. Axis = 1 resembles columns and 0 for rows\n",
    "#     npv = np.npv(r, npv_data.loc[:]['Cash_Flows']) #Pass cash flow column from dataframe. I could have summed up the discounted cash flows + intial cost, but kept a general frmat for calculation purposes\n",
    "    npv= np.sum(npv_data.loc[:]['Discounted_Cash_Flows'])\n",
    "    return npv # when calling the function I have to call all returned variables and fill all parameters. Some parameters are passed to allows the function to return a value without them yielding a significant implication on the functions calculations\n",
    "\n"
   ]
  },
  {
   "cell_type": "code",
   "execution_count": 37,
   "metadata": {},
   "outputs": [
    {
     "data": {
      "text/plain": [
       "28.359384836464983"
      ]
     },
     "execution_count": 37,
     "metadata": {},
     "output_type": "execute_result"
    }
   ],
   "source": [
    "loan_NPV(0.02,0.11086,1102.180548,2500,3)\n",
    "# n=0\n",
    "# for i in range(0,1000000):\n",
    "#     scored_data['NPV'][i]= loan_NPV(0.02,scored_data['SCORE'][i], scored_data['Payments'][i], scored_data['loan_amnt'][i], scored_data['term_payments'][i])\n",
    "#     n += 1\n",
    "#     print(\"Loop number \", str(n))"
   ]
  },
  {
   "cell_type": "code",
   "execution_count": 40,
   "metadata": {},
   "outputs": [],
   "source": [
    "#Save my final dataframe to file\n",
    "scored_data.to_csv (r'C:\\Users\\Firo Obeid\\Desktop\\test\\Scored_Data.csv', index = None, header=True)"
   ]
  },
  {
   "cell_type": "markdown",
   "metadata": {},
   "source": [
    "#### Total Expected NPV per Bucket/Segment"
   ]
  },
  {
   "cell_type": "code",
   "execution_count": 43,
   "metadata": {},
   "outputs": [
    {
     "data": {
      "text/html": [
       "<div>\n",
       "<style scoped>\n",
       "    .dataframe tbody tr th:only-of-type {\n",
       "        vertical-align: middle;\n",
       "    }\n",
       "\n",
       "    .dataframe tbody tr th {\n",
       "        vertical-align: top;\n",
       "    }\n",
       "\n",
       "    .dataframe thead th {\n",
       "        text-align: right;\n",
       "    }\n",
       "</style>\n",
       "<table border=\"1\" class=\"dataframe\">\n",
       "  <thead>\n",
       "    <tr style=\"text-align: right;\">\n",
       "      <th></th>\n",
       "      <th>NPV</th>\n",
       "    </tr>\n",
       "    <tr>\n",
       "      <th>DECILE</th>\n",
       "      <th></th>\n",
       "    </tr>\n",
       "  </thead>\n",
       "  <tbody>\n",
       "    <tr>\n",
       "      <th>1.0</th>\n",
       "      <td>-1.693394e+09</td>\n",
       "    </tr>\n",
       "    <tr>\n",
       "      <th>2.0</th>\n",
       "      <td>-6.962418e+08</td>\n",
       "    </tr>\n",
       "    <tr>\n",
       "      <th>3.0</th>\n",
       "      <td>-2.122870e+08</td>\n",
       "    </tr>\n",
       "    <tr>\n",
       "      <th>4.0</th>\n",
       "      <td>-3.775125e+07</td>\n",
       "    </tr>\n",
       "    <tr>\n",
       "      <th>5.0</th>\n",
       "      <td>-9.700866e+05</td>\n",
       "    </tr>\n",
       "    <tr>\n",
       "      <th>6.0</th>\n",
       "      <td>8.166442e+06</td>\n",
       "    </tr>\n",
       "    <tr>\n",
       "      <th>7.0</th>\n",
       "      <td>1.229999e+07</td>\n",
       "    </tr>\n",
       "    <tr>\n",
       "      <th>8.0</th>\n",
       "      <td>-3.918517e+06</td>\n",
       "    </tr>\n",
       "    <tr>\n",
       "      <th>9.0</th>\n",
       "      <td>1.368875e+06</td>\n",
       "    </tr>\n",
       "    <tr>\n",
       "      <th>10.0</th>\n",
       "      <td>3.074595e+06</td>\n",
       "    </tr>\n",
       "  </tbody>\n",
       "</table>\n",
       "</div>"
      ],
      "text/plain": [
       "                 NPV\n",
       "DECILE              \n",
       "1.0    -1.693394e+09\n",
       "2.0    -6.962418e+08\n",
       "3.0    -2.122870e+08\n",
       "4.0    -3.775125e+07\n",
       "5.0    -9.700866e+05\n",
       "6.0     8.166442e+06\n",
       "7.0     1.229999e+07\n",
       "8.0    -3.918517e+06\n",
       "9.0     1.368875e+06\n",
       "10.0    3.074595e+06"
      ]
     },
     "execution_count": 43,
     "metadata": {},
     "output_type": "execute_result"
    }
   ],
   "source": [
    "Total_NPV = pd.DataFrame(scored_data.groupby('DECILE')['NPV'].sum())\n",
    "Total_NPV"
   ]
  },
  {
   "cell_type": "code",
   "execution_count": 44,
   "metadata": {},
   "outputs": [
    {
     "data": {
      "image/png": "[encoded data removed]",
      "text/plain": [
       "<matplotlib.figure.Figure at 0x20fa32befd0>"
      ]
     },
     "metadata": {
      "needs_background": "light"
     },
     "output_type": "display_data"
    }
   ],
   "source": [
    "Total_NPV.plot(kind = 'line', ylim = (min(Total_NPV['NPV']),-min(Total_NPV['NPV'])), figsize = (20,12), title = 'Buckets Expected NPV', table = True, fontsize= 15);"
   ]
  }
 ],
 "metadata": {
  "kernelspec": {
   "display_name": "Python 3",
   "language": "python",
   "name": "python3"
  },
  "language_info": {
   "codemirror_mode": {
    "name": "ipython",
    "version": 3
   },
   "file_extension": ".py",
   "mimetype": "text/x-python",
   "name": "python",
   "nbconvert_exporter": "python",
   "pygments_lexer": "ipython3",
   "version": "3.6.2"
  }
 },
 "nbformat": 4,
 "nbformat_minor": 2
}
