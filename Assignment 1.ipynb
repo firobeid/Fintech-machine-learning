{
 "cells": [
  {
   "cell_type": "markdown",
   "metadata": {},
   "source": [
    "## Course Assignment  1 - Firas Obeid\n",
    "<div class=\"alert alert-info\"><h3>Financial Applications with Machine Learning Course:</h3>\n",
    "    Data visualization and exploration of a micsellaneous data set from Kaggle.com\n",
    "<strong>"
   ]
  },
  {
   "cell_type": "code",
   "execution_count": 75,
   "metadata": {},
   "outputs": [
    {
     "data": {
      "text/html": [
       "<div>\n",
       "<style>\n",
       "    .dataframe thead tr:only-child th {\n",
       "        text-align: right;\n",
       "    }\n",
       "\n",
       "    .dataframe thead th {\n",
       "        text-align: left;\n",
       "    }\n",
       "\n",
       "    .dataframe tbody tr th {\n",
       "        vertical-align: top;\n",
       "    }\n",
       "</style>\n",
       "<table border=\"1\" class=\"dataframe\">\n",
       "  <thead>\n",
       "    <tr style=\"text-align: right;\">\n",
       "      <th></th>\n",
       "      <th>rating_agency_name</th>\n",
       "      <th>file_creating_date</th>\n",
       "      <th>issued_paid</th>\n",
       "      <th>rating</th>\n",
       "      <th>rating_action_class</th>\n",
       "      <th>obligor_sec_category</th>\n",
       "      <th>obligor_name</th>\n",
       "    </tr>\n",
       "    <tr>\n",
       "      <th>rating_action_date</th>\n",
       "      <th></th>\n",
       "      <th></th>\n",
       "      <th></th>\n",
       "      <th></th>\n",
       "      <th></th>\n",
       "      <th></th>\n",
       "      <th></th>\n",
       "    </tr>\n",
       "  </thead>\n",
       "  <tbody>\n",
       "    <tr>\n",
       "      <th>2017-11-30</th>\n",
       "      <td>Morningstar Credit Ratings, LLC.</td>\n",
       "      <td>1/17/2019</td>\n",
       "      <td>False</td>\n",
       "      <td>WO</td>\n",
       "      <td>WO</td>\n",
       "      <td>Corporate</td>\n",
       "      <td>Baker Hughes Inc</td>\n",
       "    </tr>\n",
       "    <tr>\n",
       "      <th>2012-09-18</th>\n",
       "      <td>Morningstar Credit Ratings, LLC.</td>\n",
       "      <td>1/17/2019</td>\n",
       "      <td>False</td>\n",
       "      <td>BBB+</td>\n",
       "      <td>DG</td>\n",
       "      <td>Corporate</td>\n",
       "      <td>Baker Hughes Inc</td>\n",
       "    </tr>\n",
       "    <tr>\n",
       "      <th>2010-04-05</th>\n",
       "      <td>Morningstar Credit Ratings, LLC.</td>\n",
       "      <td>1/17/2019</td>\n",
       "      <td>False</td>\n",
       "      <td>A-</td>\n",
       "      <td>HS</td>\n",
       "      <td>Corporate</td>\n",
       "      <td>Baker Hughes Inc</td>\n",
       "    </tr>\n",
       "    <tr>\n",
       "      <th>2015-06-24</th>\n",
       "      <td>Morningstar Credit Ratings, LLC.</td>\n",
       "      <td>1/17/2019</td>\n",
       "      <td>False</td>\n",
       "      <td>WO</td>\n",
       "      <td>WO</td>\n",
       "      <td>Corporate</td>\n",
       "      <td>Ball Corp</td>\n",
       "    </tr>\n",
       "    <tr>\n",
       "      <th>2010-09-01</th>\n",
       "      <td>Morningstar Credit Ratings, LLC.</td>\n",
       "      <td>1/17/2019</td>\n",
       "      <td>False</td>\n",
       "      <td>BB+</td>\n",
       "      <td>HS</td>\n",
       "      <td>Corporate</td>\n",
       "      <td>Ball Corp</td>\n",
       "    </tr>\n",
       "    <tr>\n",
       "      <th>2018-11-28</th>\n",
       "      <td>Morningstar Credit Ratings, LLC.</td>\n",
       "      <td>1/17/2019</td>\n",
       "      <td>False</td>\n",
       "      <td>BBB</td>\n",
       "      <td>UP</td>\n",
       "      <td>Corporate</td>\n",
       "      <td>Barrick Gold Corp</td>\n",
       "    </tr>\n",
       "    <tr>\n",
       "      <th>2013-09-17</th>\n",
       "      <td>Morningstar Credit Ratings, LLC.</td>\n",
       "      <td>1/17/2019</td>\n",
       "      <td>False</td>\n",
       "      <td>BBB-</td>\n",
       "      <td>DG</td>\n",
       "      <td>Corporate</td>\n",
       "      <td>Barrick Gold Corp</td>\n",
       "    </tr>\n",
       "    <tr>\n",
       "      <th>2012-06-29</th>\n",
       "      <td>Morningstar Credit Ratings, LLC.</td>\n",
       "      <td>1/17/2019</td>\n",
       "      <td>False</td>\n",
       "      <td>BBB</td>\n",
       "      <td>DG</td>\n",
       "      <td>Corporate</td>\n",
       "      <td>Barrick Gold Corp</td>\n",
       "    </tr>\n",
       "    <tr>\n",
       "      <th>2010-09-10</th>\n",
       "      <td>Morningstar Credit Ratings, LLC.</td>\n",
       "      <td>1/17/2019</td>\n",
       "      <td>False</td>\n",
       "      <td>BBB+</td>\n",
       "      <td>HS</td>\n",
       "      <td>Corporate</td>\n",
       "      <td>Barrick Gold Corp</td>\n",
       "    </tr>\n",
       "    <tr>\n",
       "      <th>2015-12-24</th>\n",
       "      <td>Morningstar Credit Ratings, LLC.</td>\n",
       "      <td>1/17/2019</td>\n",
       "      <td>False</td>\n",
       "      <td>WO</td>\n",
       "      <td>WO</td>\n",
       "      <td>Corporate</td>\n",
       "      <td>Basf SE</td>\n",
       "    </tr>\n",
       "  </tbody>\n",
       "</table>\n",
       "</div>"
      ],
      "text/plain": [
       "                                  rating_agency_name file_creating_date  \\\n",
       "rating_action_date                                                        \n",
       "2017-11-30          Morningstar Credit Ratings, LLC.          1/17/2019   \n",
       "2012-09-18          Morningstar Credit Ratings, LLC.          1/17/2019   \n",
       "2010-04-05          Morningstar Credit Ratings, LLC.          1/17/2019   \n",
       "2015-06-24          Morningstar Credit Ratings, LLC.          1/17/2019   \n",
       "2010-09-01          Morningstar Credit Ratings, LLC.          1/17/2019   \n",
       "2018-11-28          Morningstar Credit Ratings, LLC.          1/17/2019   \n",
       "2013-09-17          Morningstar Credit Ratings, LLC.          1/17/2019   \n",
       "2012-06-29          Morningstar Credit Ratings, LLC.          1/17/2019   \n",
       "2010-09-10          Morningstar Credit Ratings, LLC.          1/17/2019   \n",
       "2015-12-24          Morningstar Credit Ratings, LLC.          1/17/2019   \n",
       "\n",
       "                    issued_paid rating rating_action_class  \\\n",
       "rating_action_date                                           \n",
       "2017-11-30                False     WO                  WO   \n",
       "2012-09-18                False   BBB+                  DG   \n",
       "2010-04-05                False     A-                  HS   \n",
       "2015-06-24                False     WO                  WO   \n",
       "2010-09-01                False    BB+                  HS   \n",
       "2018-11-28                False    BBB                  UP   \n",
       "2013-09-17                False   BBB-                  DG   \n",
       "2012-06-29                False    BBB                  DG   \n",
       "2010-09-10                False   BBB+                  HS   \n",
       "2015-12-24                False     WO                  WO   \n",
       "\n",
       "                   obligor_sec_category       obligor_name  \n",
       "rating_action_date                                          \n",
       "2017-11-30                    Corporate   Baker Hughes Inc  \n",
       "2012-09-18                    Corporate   Baker Hughes Inc  \n",
       "2010-04-05                    Corporate   Baker Hughes Inc  \n",
       "2015-06-24                    Corporate          Ball Corp  \n",
       "2010-09-01                    Corporate          Ball Corp  \n",
       "2018-11-28                    Corporate  Barrick Gold Corp  \n",
       "2013-09-17                    Corporate  Barrick Gold Corp  \n",
       "2012-06-29                    Corporate  Barrick Gold Corp  \n",
       "2010-09-10                    Corporate  Barrick Gold Corp  \n",
       "2015-12-24                    Corporate            Basf SE  "
      ]
     },
     "execution_count": 75,
     "metadata": {},
     "output_type": "execute_result"
    }
   ],
   "source": [
    "import numpy as np\n",
    "import pandas as pd\n",
    "import matplotlib.pyplot as plt\n",
    "from matplotlib.pyplot import figure\n",
    "import seaborn as sns\n",
    "%matplotlib inline\n",
    "\n",
    "data = pd.read_csv('data.csv',index_col='rating_action_date',parse_dates=True)\n",
    "data.head(10)"
   ]
  },
  {
   "cell_type": "code",
   "execution_count": 76,
   "metadata": {},
   "outputs": [
    {
     "data": {
      "text/html": [
       "<div>\n",
       "<style>\n",
       "    .dataframe thead tr:only-child th {\n",
       "        text-align: right;\n",
       "    }\n",
       "\n",
       "    .dataframe thead th {\n",
       "        text-align: left;\n",
       "    }\n",
       "\n",
       "    .dataframe tbody tr th {\n",
       "        vertical-align: top;\n",
       "    }\n",
       "</style>\n",
       "<table border=\"1\" class=\"dataframe\">\n",
       "  <thead>\n",
       "    <tr style=\"text-align: right;\">\n",
       "      <th></th>\n",
       "      <th>rating_agency_name</th>\n",
       "      <th>file_creating_date</th>\n",
       "      <th>issued_paid</th>\n",
       "      <th>rating</th>\n",
       "      <th>rating_action_class</th>\n",
       "      <th>obligor_sec_category</th>\n",
       "      <th>obligor_name</th>\n",
       "    </tr>\n",
       "  </thead>\n",
       "  <tbody>\n",
       "    <tr>\n",
       "      <th>count</th>\n",
       "      <td>2215</td>\n",
       "      <td>2215</td>\n",
       "      <td>2215</td>\n",
       "      <td>2215</td>\n",
       "      <td>2215</td>\n",
       "      <td>2215</td>\n",
       "      <td>2215</td>\n",
       "    </tr>\n",
       "    <tr>\n",
       "      <th>unique</th>\n",
       "      <td>1</td>\n",
       "      <td>1</td>\n",
       "      <td>1</td>\n",
       "      <td>23</td>\n",
       "      <td>7</td>\n",
       "      <td>1</td>\n",
       "      <td>847</td>\n",
       "    </tr>\n",
       "    <tr>\n",
       "      <th>top</th>\n",
       "      <td>Morningstar Credit Ratings, LLC.</td>\n",
       "      <td>1/17/2019</td>\n",
       "      <td>False</td>\n",
       "      <td>WO</td>\n",
       "      <td>HS</td>\n",
       "      <td>Corporate</td>\n",
       "      <td>USG Corp</td>\n",
       "    </tr>\n",
       "    <tr>\n",
       "      <th>freq</th>\n",
       "      <td>2215</td>\n",
       "      <td>2215</td>\n",
       "      <td>2215</td>\n",
       "      <td>679</td>\n",
       "      <td>847</td>\n",
       "      <td>2215</td>\n",
       "      <td>7</td>\n",
       "    </tr>\n",
       "  </tbody>\n",
       "</table>\n",
       "</div>"
      ],
      "text/plain": [
       "                      rating_agency_name file_creating_date issued_paid  \\\n",
       "count                               2215               2215        2215   \n",
       "unique                                 1                  1           1   \n",
       "top     Morningstar Credit Ratings, LLC.          1/17/2019       False   \n",
       "freq                                2215               2215        2215   \n",
       "\n",
       "       rating rating_action_class obligor_sec_category obligor_name  \n",
       "count    2215                2215                 2215         2215  \n",
       "unique     23                   7                    1          847  \n",
       "top        WO                  HS            Corporate     USG Corp  \n",
       "freq      679                 847                 2215            7  "
      ]
     },
     "execution_count": 76,
     "metadata": {},
     "output_type": "execute_result"
    }
   ],
   "source": [
    "data.describe()"
   ]
  },
  {
   "cell_type": "code",
   "execution_count": 77,
   "metadata": {},
   "outputs": [
    {
     "name": "stdout",
     "output_type": "stream",
     "text": [
      "<class 'pandas.core.frame.DataFrame'>\n",
      "DatetimeIndex: 2215 entries, 2017-11-30 to 2014-08-04\n",
      "Data columns (total 7 columns):\n",
      "rating_agency_name      2215 non-null object\n",
      "file_creating_date      2215 non-null object\n",
      "issued_paid             2215 non-null bool\n",
      "rating                  2215 non-null object\n",
      "rating_action_class     2215 non-null object\n",
      "obligor_sec_category    2215 non-null object\n",
      "obligor_name            2215 non-null object\n",
      "dtypes: bool(1), object(6)\n",
      "memory usage: 123.3+ KB\n"
     ]
    }
   ],
   "source": [
    "data.info()"
   ]
  },
  {
   "cell_type": "code",
   "execution_count": 78,
   "metadata": {},
   "outputs": [
    {
     "data": {
      "text/html": [
       "<div>\n",
       "<style>\n",
       "    .dataframe thead tr:only-child th {\n",
       "        text-align: right;\n",
       "    }\n",
       "\n",
       "    .dataframe thead th {\n",
       "        text-align: left;\n",
       "    }\n",
       "\n",
       "    .dataframe tbody tr th {\n",
       "        vertical-align: top;\n",
       "    }\n",
       "</style>\n",
       "<table border=\"1\" class=\"dataframe\">\n",
       "  <thead>\n",
       "    <tr style=\"text-align: right;\">\n",
       "      <th></th>\n",
       "      <th>rating_agency_name</th>\n",
       "      <th>file_creating_date</th>\n",
       "      <th>issued_paid</th>\n",
       "      <th>rating</th>\n",
       "      <th>rating_action_class</th>\n",
       "      <th>obligor_sec_category</th>\n",
       "      <th>obligor_name</th>\n",
       "    </tr>\n",
       "    <tr>\n",
       "      <th>rating_action_date</th>\n",
       "      <th></th>\n",
       "      <th></th>\n",
       "      <th></th>\n",
       "      <th></th>\n",
       "      <th></th>\n",
       "      <th></th>\n",
       "      <th></th>\n",
       "    </tr>\n",
       "  </thead>\n",
       "  <tbody>\n",
       "    <tr>\n",
       "      <th>2016-08-19</th>\n",
       "      <td>Morningstar Credit Ratings, LLC.</td>\n",
       "      <td>1/17/2019</td>\n",
       "      <td>False</td>\n",
       "      <td>WO</td>\n",
       "      <td>WO</td>\n",
       "      <td>Corporate</td>\n",
       "      <td>KKR &amp; Co Inc</td>\n",
       "    </tr>\n",
       "    <tr>\n",
       "      <th>2014-10-07</th>\n",
       "      <td>Morningstar Credit Ratings, LLC.</td>\n",
       "      <td>1/17/2019</td>\n",
       "      <td>False</td>\n",
       "      <td>BBB+</td>\n",
       "      <td>HS</td>\n",
       "      <td>Corporate</td>\n",
       "      <td>KKR &amp; Co Inc</td>\n",
       "    </tr>\n",
       "    <tr>\n",
       "      <th>2016-08-19</th>\n",
       "      <td>Morningstar Credit Ratings, LLC.</td>\n",
       "      <td>1/17/2019</td>\n",
       "      <td>False</td>\n",
       "      <td>WO</td>\n",
       "      <td>WO</td>\n",
       "      <td>Corporate</td>\n",
       "      <td>The Carlyle Group LP</td>\n",
       "    </tr>\n",
       "    <tr>\n",
       "      <th>2014-10-07</th>\n",
       "      <td>Morningstar Credit Ratings, LLC.</td>\n",
       "      <td>1/17/2019</td>\n",
       "      <td>False</td>\n",
       "      <td>BBB+</td>\n",
       "      <td>HS</td>\n",
       "      <td>Corporate</td>\n",
       "      <td>The Carlyle Group LP</td>\n",
       "    </tr>\n",
       "    <tr>\n",
       "      <th>2014-08-04</th>\n",
       "      <td>Morningstar Credit Ratings, LLC.</td>\n",
       "      <td>1/17/2019</td>\n",
       "      <td>False</td>\n",
       "      <td>BBB</td>\n",
       "      <td>HS</td>\n",
       "      <td>Corporate</td>\n",
       "      <td>Synchrony Financial</td>\n",
       "    </tr>\n",
       "  </tbody>\n",
       "</table>\n",
       "</div>"
      ],
      "text/plain": [
       "                                  rating_agency_name file_creating_date  \\\n",
       "rating_action_date                                                        \n",
       "2016-08-19          Morningstar Credit Ratings, LLC.          1/17/2019   \n",
       "2014-10-07          Morningstar Credit Ratings, LLC.          1/17/2019   \n",
       "2016-08-19          Morningstar Credit Ratings, LLC.          1/17/2019   \n",
       "2014-10-07          Morningstar Credit Ratings, LLC.          1/17/2019   \n",
       "2014-08-04          Morningstar Credit Ratings, LLC.          1/17/2019   \n",
       "\n",
       "                    issued_paid rating rating_action_class  \\\n",
       "rating_action_date                                           \n",
       "2016-08-19                False     WO                  WO   \n",
       "2014-10-07                False   BBB+                  HS   \n",
       "2016-08-19                False     WO                  WO   \n",
       "2014-10-07                False   BBB+                  HS   \n",
       "2014-08-04                False    BBB                  HS   \n",
       "\n",
       "                   obligor_sec_category          obligor_name  \n",
       "rating_action_date                                             \n",
       "2016-08-19                    Corporate          KKR & Co Inc  \n",
       "2014-10-07                    Corporate          KKR & Co Inc  \n",
       "2016-08-19                    Corporate  The Carlyle Group LP  \n",
       "2014-10-07                    Corporate  The Carlyle Group LP  \n",
       "2014-08-04                    Corporate   Synchrony Financial  "
      ]
     },
     "execution_count": 78,
     "metadata": {},
     "output_type": "execute_result"
    }
   ],
   "source": [
    "data.tail()"
   ]
  },
  {
   "cell_type": "markdown",
   "metadata": {},
   "source": [
    " **NOTES:** \n",
    " * Columns with a unique character of 1 are removed since are not necessary\n",
    " * No null values to deal with\n",
    " * Without understanding what the two rating columns are (field knowledge) the data exploration cant be approached correctly"
   ]
  },
  {
   "cell_type": "code",
   "execution_count": 79,
   "metadata": {},
   "outputs": [
    {
     "data": {
      "text/html": [
       "<div>\n",
       "<style>\n",
       "    .dataframe thead tr:only-child th {\n",
       "        text-align: right;\n",
       "    }\n",
       "\n",
       "    .dataframe thead th {\n",
       "        text-align: left;\n",
       "    }\n",
       "\n",
       "    .dataframe tbody tr th {\n",
       "        vertical-align: top;\n",
       "    }\n",
       "</style>\n",
       "<table border=\"1\" class=\"dataframe\">\n",
       "  <thead>\n",
       "    <tr style=\"text-align: right;\">\n",
       "      <th></th>\n",
       "      <th>rating</th>\n",
       "      <th>rating_action_class</th>\n",
       "      <th>obligor_name</th>\n",
       "    </tr>\n",
       "    <tr>\n",
       "      <th>rating_action_date</th>\n",
       "      <th></th>\n",
       "      <th></th>\n",
       "      <th></th>\n",
       "    </tr>\n",
       "  </thead>\n",
       "  <tbody>\n",
       "    <tr>\n",
       "      <th>2017-11-30</th>\n",
       "      <td>WO</td>\n",
       "      <td>WO</td>\n",
       "      <td>Baker Hughes Inc</td>\n",
       "    </tr>\n",
       "    <tr>\n",
       "      <th>2012-09-18</th>\n",
       "      <td>BBB+</td>\n",
       "      <td>DG</td>\n",
       "      <td>Baker Hughes Inc</td>\n",
       "    </tr>\n",
       "    <tr>\n",
       "      <th>2010-04-05</th>\n",
       "      <td>A-</td>\n",
       "      <td>HS</td>\n",
       "      <td>Baker Hughes Inc</td>\n",
       "    </tr>\n",
       "    <tr>\n",
       "      <th>2015-06-24</th>\n",
       "      <td>WO</td>\n",
       "      <td>WO</td>\n",
       "      <td>Ball Corp</td>\n",
       "    </tr>\n",
       "    <tr>\n",
       "      <th>2010-09-01</th>\n",
       "      <td>BB+</td>\n",
       "      <td>HS</td>\n",
       "      <td>Ball Corp</td>\n",
       "    </tr>\n",
       "  </tbody>\n",
       "</table>\n",
       "</div>"
      ],
      "text/plain": [
       "                   rating rating_action_class      obligor_name\n",
       "rating_action_date                                             \n",
       "2017-11-30             WO                  WO  Baker Hughes Inc\n",
       "2012-09-18           BBB+                  DG  Baker Hughes Inc\n",
       "2010-04-05             A-                  HS  Baker Hughes Inc\n",
       "2015-06-24             WO                  WO         Ball Corp\n",
       "2010-09-01            BB+                  HS         Ball Corp"
      ]
     },
     "execution_count": 79,
     "metadata": {},
     "output_type": "execute_result"
    }
   ],
   "source": [
    "data_new = data[['rating', 'rating_action_class', 'obligor_name']]\n",
    "data_new.head()"
   ]
  },
  {
   "cell_type": "code",
   "execution_count": 80,
   "metadata": {},
   "outputs": [
    {
     "data": {
      "image/png": "[encoded data removed]",
      "text/plain": [
       "<matplotlib.figure.Figure at 0x1a0ffd8e2b0>"
      ]
     },
     "metadata": {},
     "output_type": "display_data"
    }
   ],
   "source": [
    "figure(num=None, figsize=(20, 8), dpi=100, facecolor='w', edgecolor='k')\n",
    "sns.countplot(x='rating',data=data);"
   ]
  },
  {
   "cell_type": "code",
   "execution_count": 81,
   "metadata": {},
   "outputs": [
    {
     "data": {
      "image/png": "[encoded data removed]",
      "text/plain": [
       "<matplotlib.figure.Figure at 0x1a0824a6128>"
      ]
     },
     "metadata": {},
     "output_type": "display_data"
    }
   ],
   "source": [
    "figure(num=None, figsize=(20, 8), dpi=100, facecolor='w', edgecolor='k')\n",
    "sns.countplot(x='rating_action_class',data=data);"
   ]
  },
  {
   "cell_type": "code",
   "execution_count": 82,
   "metadata": {},
   "outputs": [
    {
     "data": {
      "text/plain": [
       "<matplotlib.figure.Figure at 0x1a082d064e0>"
      ]
     },
     "metadata": {},
     "output_type": "display_data"
    },
    {
     "data": {
      "image/png": "[encoded data removed]",
      "text/plain": [
       "<matplotlib.figure.Figure at 0x1a082d27710>"
      ]
     },
     "metadata": {
      "needs_background": "light"
     },
     "output_type": "display_data"
    }
   ],
   "source": [
    "figure(num=None, figsize=(20, 8), dpi=100, facecolor='w', edgecolor='k');\n",
    "df=data.groupby(['rating','rating_action_class']).size();\n",
    "df=df.unstack();\n",
    "df.plot(kind='bar', figsize = (20,8));"
   ]
  },
  {
   "cell_type": "code",
   "execution_count": 83,
   "metadata": {},
   "outputs": [],
   "source": [
    "data_no_wo = data[data['rating'] != 'WO']  \n",
    "# WO is skewing the data thus tried to remove it to understand how other data are spread since every WO rating \n",
    "# has a wo rating class but not the opposite"
   ]
  },
  {
   "cell_type": "code",
   "execution_count": 84,
   "metadata": {},
   "outputs": [
    {
     "data": {
      "image/png": "[encoded data removed]",
      "text/plain": [
       "<matplotlib.figure.Figure at 0x1a0803fec50>"
      ]
     },
     "metadata": {
      "needs_background": "light"
     },
     "output_type": "display_data"
    }
   ],
   "source": [
    "df2=data_no_wo.groupby(['rating','rating_action_class']).size()\n",
    "df2=df2.unstack()\n",
    "df2.plot(kind='bar', figsize = (20,8));"
   ]
  },
  {
   "cell_type": "code",
   "execution_count": null,
   "metadata": {},
   "outputs": [],
   "source": []
  },
  {
   "cell_type": "code",
   "execution_count": null,
   "metadata": {},
   "outputs": [],
   "source": []
  }
 ],
 "metadata": {
  "kernelspec": {
   "display_name": "Python 3",
   "language": "python",
   "name": "python3"
  },
  "language_info": {
   "codemirror_mode": {
    "name": "ipython",
    "version": 3
   },
   "file_extension": ".py",
   "mimetype": "text/x-python",
   "name": "python",
   "nbconvert_exporter": "python",
   "pygments_lexer": "ipython3",
   "version": "3.6.2"
  }
 },
 "nbformat": 4,
 "nbformat_minor": 2
}
